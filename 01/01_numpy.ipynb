{
 "cells": [
  {
   "cell_type": "code",
   "execution_count": 5,
   "id": "1fd3619e",
   "metadata": {},
   "outputs": [],
   "source": [
    "import numpy as np"
   ]
  },
  {
   "cell_type": "markdown",
   "id": "02965f95",
   "metadata": {},
   "source": [
    "List vs NumPy - Time taken"
   ]
  },
  {
   "cell_type": "code",
   "execution_count": 6,
   "id": "b4381a35",
   "metadata": {},
   "outputs": [],
   "source": [
    "from time import process_time"
   ]
  },
  {
   "cell_type": "markdown",
   "id": "ab75d13e",
   "metadata": {},
   "source": [
    "Time taken by list"
   ]
  },
  {
   "cell_type": "code",
   "execution_count": 7,
   "id": "58d3db30",
   "metadata": {},
   "outputs": [
    {
     "name": "stdout",
     "output_type": "stream",
     "text": [
      "0.09375\n"
     ]
    }
   ],
   "source": [
    "python_list = [i for i in range(1000000)]\n",
    "\n",
    "start_time = process_time()\n",
    "\n",
    "python_list = [i + 5 for i in python_list]\n",
    "\n",
    "end_time = process_time()\n",
    "\n",
    "print(end_time - start_time)\n"
   ]
  },
  {
   "cell_type": "markdown",
   "id": "0cca44eb",
   "metadata": {},
   "source": [
    "Time taken by np array"
   ]
  },
  {
   "cell_type": "code",
   "execution_count": 9,
   "id": "fd79400c",
   "metadata": {},
   "outputs": [
    {
     "name": "stdout",
     "output_type": "stream",
     "text": [
      "0.0\n"
     ]
    }
   ],
   "source": [
    "np_array = np.array([i for i in range(1000000)])\n",
    "\n",
    "start_time = process_time()\n",
    "\n",
    "np_array += 5\n",
    "\n",
    "end_time = process_time()\n",
    "\n",
    "print(end_time - start_time)"
   ]
  },
  {
   "cell_type": "markdown",
   "id": "ac5090da",
   "metadata": {},
   "source": [
    "NumPy Arrays"
   ]
  },
  {
   "cell_type": "code",
   "execution_count": 13,
   "id": "edf3c744",
   "metadata": {},
   "outputs": [
    {
     "name": "stdout",
     "output_type": "stream",
     "text": [
      "[1, 2, 3, 4, 5]\n",
      "<class 'list'>\n"
     ]
    }
   ],
   "source": [
    "# List \n",
    "list1 = [1, 2, 3, 4, 5]\n",
    "print(list1)\n",
    "print(type(list1))"
   ]
  },
  {
   "cell_type": "code",
   "execution_count": 14,
   "id": "9d17b0c0",
   "metadata": {},
   "outputs": [
    {
     "name": "stdout",
     "output_type": "stream",
     "text": [
      "[1 2 3 4 5]\n",
      "<class 'numpy.ndarray'>\n"
     ]
    }
   ],
   "source": [
    "np_array = np.array([1, 2, 3, 4, 5]) \n",
    "print(np_array)\n",
    "print(type(np_array))"
   ]
  },
  {
   "cell_type": "code",
   "execution_count": 15,
   "id": "ea1126f3",
   "metadata": {},
   "outputs": [
    {
     "name": "stdout",
     "output_type": "stream",
     "text": [
      "[1 2 3 4]\n"
     ]
    }
   ],
   "source": [
    "# 1 dim array\n",
    "a = np.array([1, 2, 3, 4])\n",
    "print(a)"
   ]
  },
  {
   "cell_type": "code",
   "execution_count": 16,
   "id": "ed662470",
   "metadata": {},
   "outputs": [
    {
     "data": {
      "text/plain": [
       "(4,)"
      ]
     },
     "execution_count": 16,
     "metadata": {},
     "output_type": "execute_result"
    }
   ],
   "source": [
    "a.shape"
   ]
  },
  {
   "cell_type": "code",
   "execution_count": 19,
   "id": "0b5b4aae",
   "metadata": {},
   "outputs": [
    {
     "name": "stdout",
     "output_type": "stream",
     "text": [
      "[[1 2 3 4]\n",
      " [5 6 7 8]]\n"
     ]
    }
   ],
   "source": [
    "# 2 dim array\n",
    "b = np.array([(1, 2, 3, 4), (5, 6, 7, 8)])\n",
    "print(b)"
   ]
  },
  {
   "cell_type": "code",
   "execution_count": 20,
   "id": "c6036d44",
   "metadata": {},
   "outputs": [
    {
     "data": {
      "text/plain": [
       "(2, 4)"
      ]
     },
     "execution_count": 20,
     "metadata": {},
     "output_type": "execute_result"
    }
   ],
   "source": [
    "b.shape"
   ]
  },
  {
   "cell_type": "code",
   "execution_count": 22,
   "id": "92209dc8",
   "metadata": {},
   "outputs": [
    {
     "name": "stdout",
     "output_type": "stream",
     "text": [
      "[[1. 2. 3. 4.]\n",
      " [5. 6. 7. 8.]]\n"
     ]
    }
   ],
   "source": [
    "c = np.array([(1, 2, 3, 4), (5, 6, 7, 8)], dtype=float)\n",
    "print(c)"
   ]
  },
  {
   "cell_type": "markdown",
   "id": "7fae4a39",
   "metadata": {},
   "source": [
    "Initial placeholders in np arrays"
   ]
  },
  {
   "cell_type": "code",
   "execution_count": 23,
   "id": "45107b40",
   "metadata": {},
   "outputs": [
    {
     "name": "stdout",
     "output_type": "stream",
     "text": [
      "[[0. 0. 0. 0. 0.]\n",
      " [0. 0. 0. 0. 0.]\n",
      " [0. 0. 0. 0. 0.]\n",
      " [0. 0. 0. 0. 0.]]\n"
     ]
    }
   ],
   "source": [
    "# Create np array of 0\n",
    "x = np.zeros((4,5))\n",
    "print(x)"
   ]
  },
  {
   "cell_type": "code",
   "execution_count": 24,
   "id": "d1ba5ad1",
   "metadata": {},
   "outputs": [
    {
     "name": "stdout",
     "output_type": "stream",
     "text": [
      "[[1. 1. 1.]\n",
      " [1. 1. 1.]\n",
      " [1. 1. 1.]]\n"
     ]
    }
   ],
   "source": [
    "# Create np array of 1\n",
    "y = np.ones((3,3))\n",
    "print(y)"
   ]
  },
  {
   "cell_type": "code",
   "execution_count": 25,
   "id": "256f692d",
   "metadata": {},
   "outputs": [
    {
     "name": "stdout",
     "output_type": "stream",
     "text": [
      "[[5 5 5 5]\n",
      " [5 5 5 5]\n",
      " [5 5 5 5]\n",
      " [5 5 5 5]\n",
      " [5 5 5 5]]\n"
     ]
    }
   ],
   "source": [
    "# Array of particular value\n",
    "z = np.full((5,4), 5)\n",
    "print(z)"
   ]
  },
  {
   "cell_type": "code",
   "execution_count": 27,
   "id": "4f575d52",
   "metadata": {},
   "outputs": [
    {
     "name": "stdout",
     "output_type": "stream",
     "text": [
      "[[1. 0. 0. 0.]\n",
      " [0. 1. 0. 0.]\n",
      " [0. 0. 1. 0.]\n",
      " [0. 0. 0. 1.]]\n"
     ]
    }
   ],
   "source": [
    "# Identity matrix\n",
    "# No necesita la forma, porque la matriz identidad siempre tiene mismo número de filas y columnas\n",
    "a = np.eye(4)\n",
    "print(a)"
   ]
  },
  {
   "cell_type": "code",
   "execution_count": 28,
   "id": "a8433601",
   "metadata": {},
   "outputs": [
    {
     "name": "stdout",
     "output_type": "stream",
     "text": [
      "[[0.18506181 0.51816687 0.45260853 0.29553854]\n",
      " [0.15646265 0.92568078 0.53913057 0.94600347]\n",
      " [0.55316575 0.09424766 0.86724101 0.81447023]]\n"
     ]
    }
   ],
   "source": [
    "# Numpy array with random values (all between 0 and 1)\n",
    "b = np.random.random((3,4))\n",
    "print(b)"
   ]
  },
  {
   "cell_type": "code",
   "execution_count": 30,
   "id": "ded1e604",
   "metadata": {},
   "outputs": [
    {
     "name": "stdout",
     "output_type": "stream",
     "text": [
      "[[37 11 70 99 44]\n",
      " [61 14 54 22 83]\n",
      " [54 99 85 13 93]]\n"
     ]
    }
   ],
   "source": [
    "# Random integer values array within a specific range\n",
    "c = np.random.randint(10, 100, (3,5))\n",
    "# Argumentos: mínimo, máximo, forma de array\n",
    "print(c)"
   ]
  },
  {
   "cell_type": "code",
   "execution_count": 36,
   "id": "0da15940",
   "metadata": {},
   "outputs": [
    {
     "name": "stdout",
     "output_type": "stream",
     "text": [
      "[10. 15. 20. 25. 30.]\n"
     ]
    }
   ],
   "source": [
    "# Array of evenly spaced values --> specifying number of values\n",
    "d = np.linspace(10, 30, 5)\n",
    "# Argumentos: min, max, cantidad de valores\n",
    "print(d)"
   ]
  },
  {
   "cell_type": "code",
   "execution_count": 41,
   "id": "7aa813e4",
   "metadata": {},
   "outputs": [
    {
     "name": "stdout",
     "output_type": "stream",
     "text": [
      "[10 15 20 25]\n"
     ]
    }
   ],
   "source": [
    "# Array of evenly spaced values --> specifying step\n",
    "e = np.arange(10, 30, 5)\n",
    "# Argumentos: min, max (no incluido), step\n",
    "print(e)"
   ]
  },
  {
   "cell_type": "code",
   "execution_count": 44,
   "id": "6ed3264f",
   "metadata": {},
   "outputs": [
    {
     "name": "stdout",
     "output_type": "stream",
     "text": [
      "[10 20 30 40 50]\n",
      "<class 'numpy.ndarray'>\n"
     ]
    }
   ],
   "source": [
    "# Convert list to np array\n",
    "list2 = [10, 20, 30, 40, 50]\n",
    "\n",
    "np_array = np.asarray(list2)\n",
    "print(np_array)\n",
    "print(type(np_array))"
   ]
  },
  {
   "cell_type": "code",
   "execution_count": 46,
   "id": "3865c4c9",
   "metadata": {},
   "outputs": [
    {
     "name": "stdout",
     "output_type": "stream",
     "text": [
      "[[36 42 30 74 58]\n",
      " [29 15 13 61 86]\n",
      " [76 38 16 36 55]\n",
      " [74 15 38 59 48]\n",
      " [13 41 17 75 49]]\n"
     ]
    }
   ],
   "source": [
    "# Analysing np array\n",
    "c = np.random.randint(10, 90, (5,5))\n",
    "print(c)"
   ]
  },
  {
   "cell_type": "code",
   "execution_count": 47,
   "id": "28285250",
   "metadata": {},
   "outputs": [
    {
     "name": "stdout",
     "output_type": "stream",
     "text": [
      "(5, 5)\n"
     ]
    }
   ],
   "source": [
    "# Array dimension\n",
    "print(c.shape)"
   ]
  },
  {
   "cell_type": "code",
   "execution_count": 50,
   "id": "925eeefc",
   "metadata": {},
   "outputs": [
    {
     "name": "stdout",
     "output_type": "stream",
     "text": [
      "2\n"
     ]
    }
   ],
   "source": [
    "# Number of dimensions \n",
    "# 2 => filas y columnas\n",
    "print(c.ndim)"
   ]
  },
  {
   "cell_type": "code",
   "execution_count": 51,
   "id": "d70d423a",
   "metadata": {},
   "outputs": [
    {
     "name": "stdout",
     "output_type": "stream",
     "text": [
      "25\n"
     ]
    }
   ],
   "source": [
    "# Number of elements in array\n",
    "print(c.size)"
   ]
  },
  {
   "cell_type": "code",
   "execution_count": 52,
   "id": "6c21eca0",
   "metadata": {},
   "outputs": [
    {
     "name": "stdout",
     "output_type": "stream",
     "text": [
      "int32\n"
     ]
    }
   ],
   "source": [
    "# Check data type of values\n",
    "print(c.dtype)"
   ]
  },
  {
   "cell_type": "markdown",
   "id": "6422e18f",
   "metadata": {},
   "source": [
    "Mathematical operations on np array"
   ]
  },
  {
   "cell_type": "code",
   "execution_count": 56,
   "id": "595d953d",
   "metadata": {},
   "outputs": [
    {
     "name": "stdout",
     "output_type": "stream",
     "text": [
      "[1, 2, 3, 4, 5, 6, 7, 8, 9, 10]\n"
     ]
    }
   ],
   "source": [
    "list1 = [1, 2, 3, 4, 5]\n",
    "list2 = [6, 7, 8, 9, 10]\n",
    "print(list1 + list2)\n",
    "# Concatenation"
   ]
  },
  {
   "cell_type": "code",
   "execution_count": 57,
   "id": "bcc3197e",
   "metadata": {},
   "outputs": [],
   "source": [
    "a = np.random.randint(0, 10, (3,3))\n",
    "b = np.random.randint(10, 20, (3,3))"
   ]
  },
  {
   "cell_type": "code",
   "execution_count": 58,
   "id": "8b4e6484",
   "metadata": {},
   "outputs": [
    {
     "name": "stdout",
     "output_type": "stream",
     "text": [
      "[[5 5 4]\n",
      " [5 3 0]\n",
      " [7 5 7]]\n",
      "[[14 16 12]\n",
      " [13 12 16]\n",
      " [16 16 17]]\n"
     ]
    }
   ],
   "source": [
    "print(a)\n",
    "print(b)"
   ]
  },
  {
   "cell_type": "code",
   "execution_count": 59,
   "id": "45a4b68b",
   "metadata": {},
   "outputs": [
    {
     "name": "stdout",
     "output_type": "stream",
     "text": [
      "[[19 21 16]\n",
      " [18 15 16]\n",
      " [23 21 24]]\n"
     ]
    }
   ],
   "source": [
    "print(a + b)"
   ]
  },
  {
   "cell_type": "code",
   "execution_count": 60,
   "id": "679c1c61",
   "metadata": {},
   "outputs": [
    {
     "name": "stdout",
     "output_type": "stream",
     "text": [
      "[[ -9 -11  -8]\n",
      " [ -8  -9 -16]\n",
      " [ -9 -11 -10]]\n"
     ]
    }
   ],
   "source": [
    "print(a - b)"
   ]
  },
  {
   "cell_type": "code",
   "execution_count": 61,
   "id": "72c3ee58",
   "metadata": {},
   "outputs": [
    {
     "name": "stdout",
     "output_type": "stream",
     "text": [
      "[[ 70  80  48]\n",
      " [ 65  36   0]\n",
      " [112  80 119]]\n"
     ]
    }
   ],
   "source": [
    "print(a * b)"
   ]
  },
  {
   "cell_type": "code",
   "execution_count": 62,
   "id": "0b2d6e81",
   "metadata": {},
   "outputs": [
    {
     "name": "stdout",
     "output_type": "stream",
     "text": [
      "[[0.35714286 0.3125     0.33333333]\n",
      " [0.38461538 0.25       0.        ]\n",
      " [0.4375     0.3125     0.41176471]]\n"
     ]
    }
   ],
   "source": [
    "print(a / b)"
   ]
  },
  {
   "cell_type": "code",
   "execution_count": 63,
   "id": "67493fd8",
   "metadata": {},
   "outputs": [
    {
     "name": "stdout",
     "output_type": "stream",
     "text": [
      "[[19 21 16]\n",
      " [18 15 16]\n",
      " [23 21 24]]\n"
     ]
    }
   ],
   "source": [
    "print(np.add(a, b))"
   ]
  },
  {
   "cell_type": "code",
   "execution_count": 64,
   "id": "cdaf822d",
   "metadata": {},
   "outputs": [
    {
     "name": "stdout",
     "output_type": "stream",
     "text": [
      "[[ -9 -11  -8]\n",
      " [ -8  -9 -16]\n",
      " [ -9 -11 -10]]\n"
     ]
    }
   ],
   "source": [
    "print(np.subtract(a, b))"
   ]
  },
  {
   "cell_type": "code",
   "execution_count": 65,
   "id": "ce1bc67e",
   "metadata": {},
   "outputs": [
    {
     "name": "stdout",
     "output_type": "stream",
     "text": [
      "[[ 70  80  48]\n",
      " [ 65  36   0]\n",
      " [112  80 119]]\n"
     ]
    }
   ],
   "source": [
    "print(np.multiply(a, b))"
   ]
  },
  {
   "cell_type": "code",
   "execution_count": 66,
   "id": "ed2ea103",
   "metadata": {},
   "outputs": [
    {
     "name": "stdout",
     "output_type": "stream",
     "text": [
      "[[0.35714286 0.3125     0.33333333]\n",
      " [0.38461538 0.25       0.        ]\n",
      " [0.4375     0.3125     0.41176471]]\n"
     ]
    }
   ],
   "source": [
    "print(np.divide(a, b))"
   ]
  },
  {
   "cell_type": "raw",
   "id": "b09ef595",
   "metadata": {},
   "source": [
    "Array manipulation"
   ]
  },
  {
   "cell_type": "code",
   "execution_count": 67,
   "id": "824a0065",
   "metadata": {},
   "outputs": [
    {
     "name": "stdout",
     "output_type": "stream",
     "text": [
      "[[7 8 4]\n",
      " [6 9 4]]\n",
      "(2, 3)\n"
     ]
    }
   ],
   "source": [
    "array = np.random.randint(0, 10, (2,3))\n",
    "print(array)\n",
    "print(array.shape)"
   ]
  },
  {
   "cell_type": "code",
   "execution_count": 69,
   "id": "f42608e4",
   "metadata": {},
   "outputs": [
    {
     "name": "stdout",
     "output_type": "stream",
     "text": [
      "[[7 6]\n",
      " [8 9]\n",
      " [4 4]]\n",
      "(3, 2)\n"
     ]
    }
   ],
   "source": [
    "# Transpose (rows become columns and columns become rows)\n",
    "trans = np.transpose(array)\n",
    "print(trans)\n",
    "print(trans.shape)"
   ]
  },
  {
   "cell_type": "code",
   "execution_count": 71,
   "id": "75b31f75",
   "metadata": {},
   "outputs": [
    {
     "name": "stdout",
     "output_type": "stream",
     "text": [
      "[[7 6]\n",
      " [8 9]\n",
      " [4 4]]\n"
     ]
    }
   ],
   "source": [
    "# otra forma de transponer\n",
    "trans2 = array.T\n",
    "print(trans2)"
   ]
  },
  {
   "cell_type": "code",
   "execution_count": 73,
   "id": "c2774726",
   "metadata": {},
   "outputs": [
    {
     "name": "stdout",
     "output_type": "stream",
     "text": [
      "[[9 6 7]\n",
      " [6 1 6]]\n",
      "(2, 3)\n"
     ]
    }
   ],
   "source": [
    "# Reshape\n",
    "a = np.random.randint(0, 10, (2,3))\n",
    "print(a)\n",
    "print(a.shape)"
   ]
  },
  {
   "cell_type": "code",
   "execution_count": 74,
   "id": "1178ade4",
   "metadata": {},
   "outputs": [
    {
     "name": "stdout",
     "output_type": "stream",
     "text": [
      "[[9 6]\n",
      " [7 6]\n",
      " [1 6]]\n"
     ]
    }
   ],
   "source": [
    "b = a.reshape(3,2)\n",
    "print(b)"
   ]
  },
  {
   "cell_type": "code",
   "execution_count": 75,
   "id": "0c0206d3",
   "metadata": {},
   "outputs": [
    {
     "name": "stdout",
     "output_type": "stream",
     "text": [
      "[[9 6]\n",
      " [7 6]\n",
      " [1 6]]\n"
     ]
    }
   ],
   "source": [
    "c = a.reshape(3,-1)\n",
    "print(c)"
   ]
  },
  {
   "cell_type": "code",
   "execution_count": null,
   "id": "54c7c1a5",
   "metadata": {},
   "outputs": [],
   "source": []
  }
 ],
 "metadata": {
  "kernelspec": {
   "display_name": "Python 3 (ipykernel)",
   "language": "python",
   "name": "python3"
  },
  "language_info": {
   "codemirror_mode": {
    "name": "ipython",
    "version": 3
   },
   "file_extension": ".py",
   "mimetype": "text/x-python",
   "name": "python",
   "nbconvert_exporter": "python",
   "pygments_lexer": "ipython3",
   "version": "3.9.11"
  }
 },
 "nbformat": 4,
 "nbformat_minor": 5
}
