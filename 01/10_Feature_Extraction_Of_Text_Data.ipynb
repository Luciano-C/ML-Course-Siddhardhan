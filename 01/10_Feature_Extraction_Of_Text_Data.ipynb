{
 "cells": [
  {
   "cell_type": "markdown",
   "id": "2f8347cd",
   "metadata": {},
   "source": [
    "## Feature extraction  \n",
    "Mapping of textual data to real valued vectors."
   ]
  },
  {
   "cell_type": "markdown",
   "id": "5da69f5c",
   "metadata": {},
   "source": [
    "**Bag of words (BOW)**: List of unique words in the text corpus.  \n",
    "**Term Frequency-Inverse Document Frequency (TF-IDF)**: To count the number of times each word appears in a document.  \n",
    "**Term Frequency (TF)**: (Number of times term t appears in a document) / (Number of terms in the document). Tells us which are the important words.  \n",
    "**Inverse Document Frequency (IDF)**: log(N/n). Where N is the number of documents and n is the number of documents a term t has appeared in. The IDF of a rare value is high, whereas the IDF of a common word is low. Words like \"the\" or \"do\" will appear often and this will tell the ML model that those words are not significant.\n",
    "\n",
    "**TF-IDF = TF x IDF**\n",
    "\n",
    "\n",
    "\n"
   ]
  },
  {
   "cell_type": "markdown",
   "id": "d41a6c1e",
   "metadata": {},
   "source": [
    "(Watch fake news prediction for code)"
   ]
  },
  {
   "cell_type": "code",
   "execution_count": null,
   "id": "769f340f",
   "metadata": {},
   "outputs": [],
   "source": []
  }
 ],
 "metadata": {
  "kernelspec": {
   "display_name": "Python 3 (ipykernel)",
   "language": "python",
   "name": "python3"
  },
  "language_info": {
   "codemirror_mode": {
    "name": "ipython",
    "version": 3
   },
   "file_extension": ".py",
   "mimetype": "text/x-python",
   "name": "python",
   "nbconvert_exporter": "python",
   "pygments_lexer": "ipython3",
   "version": "3.9.11"
  }
 },
 "nbformat": 4,
 "nbformat_minor": 5
}
