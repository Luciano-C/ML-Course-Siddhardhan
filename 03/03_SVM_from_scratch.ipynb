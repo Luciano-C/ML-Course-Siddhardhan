{
 "cells": [
  {
   "cell_type": "markdown",
   "id": "51cee2a2",
   "metadata": {},
   "source": [
    "# SVM Classifier"
   ]
  },
  {
   "cell_type": "markdown",
   "id": "e768f1ab",
   "metadata": {},
   "source": [
    "## Hyperplane"
   ]
  },
  {
   "cell_type": "markdown",
   "id": "f2014815",
   "metadata": {},
   "source": [
    "$$ Y = W \\cdot X - b $$"
   ]
  },
  {
   "cell_type": "markdown",
   "id": "2d226603",
   "metadata": {},
   "source": [
    "## Gradient Descent"
   ]
  },
  {
   "cell_type": "markdown",
   "id": "46dfd7c2",
   "metadata": {},
   "source": [
    "$$w = w - \\alpha \\cdot dw$$\n",
    "$$b = b - \\alpha \\cdot db$$"
   ]
  },
  {
   "cell_type": "markdown",
   "id": "90d026e7",
   "metadata": {},
   "source": [
    "## Importing dependencies"
   ]
  },
  {
   "cell_type": "code",
   "execution_count": 1,
   "id": "1c51ac79",
   "metadata": {},
   "outputs": [],
   "source": [
    "import numpy as np"
   ]
  },
  {
   "cell_type": "markdown",
   "id": "7338ac3b",
   "metadata": {},
   "source": [
    "## Support Vector Machine Classifier (SVM)"
   ]
  },
  {
   "cell_type": "code",
   "execution_count": null,
   "id": "f9adeb99",
   "metadata": {},
   "outputs": [],
   "source": [
    "class SVM_Classifier():\n",
    "    \n",
    "    def __init__(self, learning_rate, no_of_iterations, lambda_parameter):\n",
    "        self.learning_rate = learning_rate\n",
    "        self.no_of_iterations = no_of_iterations\n",
    "        self.lambda_parameter = lambda_parameter\n",
    "    \n",
    "    def fit(self, X, Y):\n",
    "        self.m, self.n = X.shape\n",
    "        # m: number of data points (rows)\n",
    "        # n: number of features (columns)\n",
    "        \n",
    "        # initiating weight and bias values\n",
    "        self.w = np.zeros(self.n)\n",
    "        self.b = 0\n",
    "        self.X = X\n",
    "        self.Y = Y\n",
    "        \n",
    "        # Implementing gradient descent for optimization\n",
    "        for i in range(self.no_of_iterations):\n",
    "            self.update_weights()\n",
    "    \n",
    "    def update_weights(self):\n",
    "        \n",
    "        # label encoding\n",
    "        Y_label = np.where(self.Y <= 0, -1, 1)\n",
    "        \n",
    "        # gradients\n",
    "        for index, x_i in enumerate(self.X):\n",
    "            \n",
    "            condition = Y_label[index] * (np.dot(x_i, self.w) - self.b) >= 1\n",
    "            \n",
    "            if (condition == True):\n",
    "                \n",
    "                dw = 2 * self.lambda_parameter * self.w\n",
    "                db = 0\n",
    "            \n",
    "            else:\n",
    "                \n",
    "                dw = 2 * self.lambda_parameter * self.w - np.dot(x_i, Y_label[index])\n",
    "                db = Y_label[index]\n",
    "            \n",
    "            \n",
    "            self.w = self.w - self.learning_rate * dw\n",
    "            \n",
    "            self.b = self.b - self.learning_rate * db\n",
    "          \n",
    "    \n",
    "    def predict(self, X):\n",
    "        output = np.dot(X, self.w) - self.b\n",
    "        # np.sign returns 1 for positive or -1 for negatives\n",
    "        predicted_labels = np.sign(output)\n",
    "        # Go back to labels 0 and 1\n",
    "        y_hat = np.where(predicted_labels <= -1, 0, 1)\n",
    "        return y_hat"
   ]
  },
  {
   "cell_type": "code",
   "execution_count": null,
   "id": "d9d0048c",
   "metadata": {},
   "outputs": [],
   "source": []
  },
  {
   "cell_type": "code",
   "execution_count": null,
   "id": "a0ce71e3",
   "metadata": {},
   "outputs": [],
   "source": []
  },
  {
   "cell_type": "code",
   "execution_count": null,
   "id": "5fee3982",
   "metadata": {},
   "outputs": [],
   "source": []
  }
 ],
 "metadata": {
  "kernelspec": {
   "display_name": "Python 3 (ipykernel)",
   "language": "python",
   "name": "python3"
  },
  "language_info": {
   "codemirror_mode": {
    "name": "ipython",
    "version": 3
   },
   "file_extension": ".py",
   "mimetype": "text/x-python",
   "name": "python",
   "nbconvert_exporter": "python",
   "pygments_lexer": "ipython3",
   "version": "3.9.11"
  }
 },
 "nbformat": 4,
 "nbformat_minor": 5
}
