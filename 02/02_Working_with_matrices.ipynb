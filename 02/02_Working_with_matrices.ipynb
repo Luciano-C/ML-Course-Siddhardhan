{
 "cells": [
  {
   "cell_type": "code",
   "execution_count": 1,
   "id": "53ff940e",
   "metadata": {},
   "outputs": [],
   "source": [
    "import numpy as np"
   ]
  },
  {
   "cell_type": "markdown",
   "id": "e2095382",
   "metadata": {},
   "source": [
    "## Creating matrix using numpy"
   ]
  },
  {
   "cell_type": "code",
   "execution_count": 2,
   "id": "a6dd7d91",
   "metadata": {},
   "outputs": [
    {
     "name": "stdout",
     "output_type": "stream",
     "text": [
      "[[2 3]\n",
      " [6 7]]\n"
     ]
    }
   ],
   "source": [
    "matrix_1 = np.array([[2, 3], [6, 7]])\n",
    "print(matrix_1)"
   ]
  },
  {
   "cell_type": "code",
   "execution_count": 3,
   "id": "cd15d052",
   "metadata": {},
   "outputs": [
    {
     "data": {
      "text/plain": [
       "(2, 2)"
      ]
     },
     "execution_count": 3,
     "metadata": {},
     "output_type": "execute_result"
    }
   ],
   "source": [
    "matrix_1.shape"
   ]
  },
  {
   "cell_type": "code",
   "execution_count": 4,
   "id": "cf61a5f5",
   "metadata": {},
   "outputs": [
    {
     "name": "stdout",
     "output_type": "stream",
     "text": [
      "[[10 35 45]\n",
      " [50 64 80]\n",
      " [20 15 90]]\n"
     ]
    }
   ],
   "source": [
    "matrix_2 = np.array([[10, 35, 45], [50, 64, 80], [20, 15, 90]])\n",
    "print(matrix_2)"
   ]
  },
  {
   "cell_type": "code",
   "execution_count": 5,
   "id": "3894c051",
   "metadata": {},
   "outputs": [
    {
     "data": {
      "text/plain": [
       "(3, 3)"
      ]
     },
     "execution_count": 5,
     "metadata": {},
     "output_type": "execute_result"
    }
   ],
   "source": [
    "matrix_2.shape"
   ]
  },
  {
   "cell_type": "markdown",
   "id": "5603ba46",
   "metadata": {},
   "source": [
    "## Creating matrices with random values"
   ]
  },
  {
   "cell_type": "code",
   "execution_count": 8,
   "id": "e12f24be",
   "metadata": {},
   "outputs": [
    {
     "name": "stdout",
     "output_type": "stream",
     "text": [
      "[[0.28286691 0.03997535 0.09652693]\n",
      " [0.12799728 0.2634936  0.49309835]\n",
      " [0.72407344 0.14648819 0.21238944]]\n"
     ]
    }
   ],
   "source": [
    "random_matrix = np.random.rand(3,3)\n",
    "print(random_matrix)"
   ]
  },
  {
   "cell_type": "markdown",
   "id": "bcf48224",
   "metadata": {},
   "source": [
    "## Creating matrix with random integers"
   ]
  },
  {
   "cell_type": "code",
   "execution_count": 9,
   "id": "5bcd113a",
   "metadata": {},
   "outputs": [
    {
     "name": "stdout",
     "output_type": "stream",
     "text": [
      "[[81 69 63 44 44]\n",
      " [31 10 94 83 52]\n",
      " [54 22 64 29 92]\n",
      " [33 51  1 39 47]]\n"
     ]
    }
   ],
   "source": [
    "random_integer_matrix = np.random.randint(100, size=(4,5))\n",
    "print(random_integer_matrix)"
   ]
  },
  {
   "cell_type": "markdown",
   "id": "5c7cedfa",
   "metadata": {},
   "source": [
    "## Creating matrix with all values as 1"
   ]
  },
  {
   "cell_type": "code",
   "execution_count": 11,
   "id": "26c10ed6",
   "metadata": {},
   "outputs": [
    {
     "name": "stdout",
     "output_type": "stream",
     "text": [
      "[[1. 1. 1.]\n",
      " [1. 1. 1.]]\n"
     ]
    }
   ],
   "source": [
    "matrix_3 = np.ones((2, 3))\n",
    "print(matrix_3)"
   ]
  },
  {
   "cell_type": "code",
   "execution_count": 12,
   "id": "aa86630b",
   "metadata": {},
   "outputs": [
    {
     "name": "stdout",
     "output_type": "stream",
     "text": [
      "[[1 1 1]\n",
      " [1 1 1]]\n"
     ]
    }
   ],
   "source": [
    "# All values as 1 integer\n",
    "matrix_4 = np.ones((2, 3), dtype=int)\n",
    "print(matrix_4)"
   ]
  },
  {
   "cell_type": "markdown",
   "id": "6b873da0",
   "metadata": {},
   "source": [
    "## Creating a null matrix or 0 matrix"
   ]
  },
  {
   "cell_type": "code",
   "execution_count": 13,
   "id": "2d687294",
   "metadata": {},
   "outputs": [
    {
     "name": "stdout",
     "output_type": "stream",
     "text": [
      "[[0. 0. 0. 0.]\n",
      " [0. 0. 0. 0.]\n",
      " [0. 0. 0. 0.]\n",
      " [0. 0. 0. 0.]]\n"
     ]
    }
   ],
   "source": [
    "matrix_5 = np.zeros((4,4))\n",
    "print(matrix_5)"
   ]
  },
  {
   "cell_type": "code",
   "execution_count": 14,
   "id": "4dec3b6e",
   "metadata": {},
   "outputs": [
    {
     "name": "stdout",
     "output_type": "stream",
     "text": [
      "[[0 0 0 0 0 0 0]\n",
      " [0 0 0 0 0 0 0]\n",
      " [0 0 0 0 0 0 0]\n",
      " [0 0 0 0 0 0 0]\n",
      " [0 0 0 0 0 0 0]\n",
      " [0 0 0 0 0 0 0]\n",
      " [0 0 0 0 0 0 0]]\n"
     ]
    }
   ],
   "source": [
    "matrix_6 = np.zeros((7,7), dtype=int)\n",
    "print(matrix_6)"
   ]
  },
  {
   "cell_type": "markdown",
   "id": "a41a4789",
   "metadata": {},
   "source": [
    "## Creating identity matrix"
   ]
  },
  {
   "cell_type": "code",
   "execution_count": 15,
   "id": "abfff584",
   "metadata": {},
   "outputs": [
    {
     "name": "stdout",
     "output_type": "stream",
     "text": [
      "[[1. 0. 0.]\n",
      " [0. 1. 0.]\n",
      " [0. 0. 1.]]\n"
     ]
    }
   ],
   "source": [
    "identity_matrix = np.eye(3,3)\n",
    "print(identity_matrix)"
   ]
  },
  {
   "cell_type": "code",
   "execution_count": 17,
   "id": "648b3329",
   "metadata": {},
   "outputs": [
    {
     "name": "stdout",
     "output_type": "stream",
     "text": [
      "[[1 0 0 0 0]\n",
      " [0 1 0 0 0]\n",
      " [0 0 1 0 0]\n",
      " [0 0 0 1 0]\n",
      " [0 0 0 0 1]]\n"
     ]
    }
   ],
   "source": [
    "identity_matrix_2 = np.eye(5,5, dtype=int)\n",
    "print(identity_matrix_2)"
   ]
  },
  {
   "cell_type": "markdown",
   "id": "afaef5f5",
   "metadata": {},
   "source": [
    "## Transpose of a matrix"
   ]
  },
  {
   "cell_type": "code",
   "execution_count": 18,
   "id": "ff336eac",
   "metadata": {},
   "outputs": [
    {
     "name": "stdout",
     "output_type": "stream",
     "text": [
      "[[76 66 85 76  8]\n",
      " [21 35 56 84 22]\n",
      " [49 59 69 64 34]\n",
      " [13 36 13 79 76]]\n"
     ]
    }
   ],
   "source": [
    "# matrix with random integer values\n",
    "a = np.random.randint(100, size=(4,5))\n",
    "print(a)"
   ]
  },
  {
   "cell_type": "code",
   "execution_count": 19,
   "id": "ccb7af85",
   "metadata": {},
   "outputs": [
    {
     "name": "stdout",
     "output_type": "stream",
     "text": [
      "[[76 21 49 13]\n",
      " [66 35 59 36]\n",
      " [85 56 69 13]\n",
      " [76 84 64 79]\n",
      " [ 8 22 34 76]]\n"
     ]
    }
   ],
   "source": [
    "transpose_of_a = np.transpose(a)\n",
    "print(transpose_of_a)"
   ]
  },
  {
   "cell_type": "code",
   "execution_count": null,
   "id": "57dceb99",
   "metadata": {},
   "outputs": [],
   "source": []
  }
 ],
 "metadata": {
  "kernelspec": {
   "display_name": "Python 3 (ipykernel)",
   "language": "python",
   "name": "python3"
  },
  "language_info": {
   "codemirror_mode": {
    "name": "ipython",
    "version": 3
   },
   "file_extension": ".py",
   "mimetype": "text/x-python",
   "name": "python",
   "nbconvert_exporter": "python",
   "pygments_lexer": "ipython3",
   "version": "3.9.11"
  }
 },
 "nbformat": 4,
 "nbformat_minor": 5
}
