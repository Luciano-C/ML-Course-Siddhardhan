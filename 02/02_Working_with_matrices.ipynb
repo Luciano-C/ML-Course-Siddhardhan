{
 "cells": [
  {
   "cell_type": "code",
   "execution_count": 2,
   "id": "53ff940e",
   "metadata": {},
   "outputs": [],
   "source": [
    "import numpy as np"
   ]
  },
  {
   "cell_type": "markdown",
   "id": "bef1518a",
   "metadata": {},
   "source": [
    "# Part 1"
   ]
  },
  {
   "cell_type": "markdown",
   "id": "e2095382",
   "metadata": {},
   "source": [
    "## Creating matrix using numpy"
   ]
  },
  {
   "cell_type": "code",
   "execution_count": 2,
   "id": "a6dd7d91",
   "metadata": {},
   "outputs": [
    {
     "name": "stdout",
     "output_type": "stream",
     "text": [
      "[[2 3]\n",
      " [6 7]]\n"
     ]
    }
   ],
   "source": [
    "matrix_1 = np.array([[2, 3], [6, 7]])\n",
    "print(matrix_1)"
   ]
  },
  {
   "cell_type": "code",
   "execution_count": 3,
   "id": "cd15d052",
   "metadata": {},
   "outputs": [
    {
     "data": {
      "text/plain": [
       "(2, 2)"
      ]
     },
     "execution_count": 3,
     "metadata": {},
     "output_type": "execute_result"
    }
   ],
   "source": [
    "matrix_1.shape"
   ]
  },
  {
   "cell_type": "code",
   "execution_count": 4,
   "id": "cf61a5f5",
   "metadata": {},
   "outputs": [
    {
     "name": "stdout",
     "output_type": "stream",
     "text": [
      "[[10 35 45]\n",
      " [50 64 80]\n",
      " [20 15 90]]\n"
     ]
    }
   ],
   "source": [
    "matrix_2 = np.array([[10, 35, 45], [50, 64, 80], [20, 15, 90]])\n",
    "print(matrix_2)"
   ]
  },
  {
   "cell_type": "code",
   "execution_count": 5,
   "id": "3894c051",
   "metadata": {},
   "outputs": [
    {
     "data": {
      "text/plain": [
       "(3, 3)"
      ]
     },
     "execution_count": 5,
     "metadata": {},
     "output_type": "execute_result"
    }
   ],
   "source": [
    "matrix_2.shape"
   ]
  },
  {
   "cell_type": "markdown",
   "id": "5603ba46",
   "metadata": {},
   "source": [
    "## Creating matrices with random values"
   ]
  },
  {
   "cell_type": "code",
   "execution_count": 8,
   "id": "e12f24be",
   "metadata": {},
   "outputs": [
    {
     "name": "stdout",
     "output_type": "stream",
     "text": [
      "[[0.28286691 0.03997535 0.09652693]\n",
      " [0.12799728 0.2634936  0.49309835]\n",
      " [0.72407344 0.14648819 0.21238944]]\n"
     ]
    }
   ],
   "source": [
    "random_matrix = np.random.rand(3,3)\n",
    "print(random_matrix)"
   ]
  },
  {
   "cell_type": "markdown",
   "id": "bcf48224",
   "metadata": {},
   "source": [
    "## Creating matrix with random integers"
   ]
  },
  {
   "cell_type": "code",
   "execution_count": 9,
   "id": "5bcd113a",
   "metadata": {},
   "outputs": [
    {
     "name": "stdout",
     "output_type": "stream",
     "text": [
      "[[81 69 63 44 44]\n",
      " [31 10 94 83 52]\n",
      " [54 22 64 29 92]\n",
      " [33 51  1 39 47]]\n"
     ]
    }
   ],
   "source": [
    "random_integer_matrix = np.random.randint(100, size=(4,5))\n",
    "print(random_integer_matrix)"
   ]
  },
  {
   "cell_type": "markdown",
   "id": "5c7cedfa",
   "metadata": {},
   "source": [
    "## Creating matrix with all values as 1"
   ]
  },
  {
   "cell_type": "code",
   "execution_count": 11,
   "id": "26c10ed6",
   "metadata": {},
   "outputs": [
    {
     "name": "stdout",
     "output_type": "stream",
     "text": [
      "[[1. 1. 1.]\n",
      " [1. 1. 1.]]\n"
     ]
    }
   ],
   "source": [
    "matrix_3 = np.ones((2, 3))\n",
    "print(matrix_3)"
   ]
  },
  {
   "cell_type": "code",
   "execution_count": 12,
   "id": "aa86630b",
   "metadata": {},
   "outputs": [
    {
     "name": "stdout",
     "output_type": "stream",
     "text": [
      "[[1 1 1]\n",
      " [1 1 1]]\n"
     ]
    }
   ],
   "source": [
    "# All values as 1 integer\n",
    "matrix_4 = np.ones((2, 3), dtype=int)\n",
    "print(matrix_4)"
   ]
  },
  {
   "cell_type": "markdown",
   "id": "6b873da0",
   "metadata": {},
   "source": [
    "## Creating a null matrix or 0 matrix"
   ]
  },
  {
   "cell_type": "code",
   "execution_count": 13,
   "id": "2d687294",
   "metadata": {},
   "outputs": [
    {
     "name": "stdout",
     "output_type": "stream",
     "text": [
      "[[0. 0. 0. 0.]\n",
      " [0. 0. 0. 0.]\n",
      " [0. 0. 0. 0.]\n",
      " [0. 0. 0. 0.]]\n"
     ]
    }
   ],
   "source": [
    "matrix_5 = np.zeros((4,4))\n",
    "print(matrix_5)"
   ]
  },
  {
   "cell_type": "code",
   "execution_count": 14,
   "id": "4dec3b6e",
   "metadata": {},
   "outputs": [
    {
     "name": "stdout",
     "output_type": "stream",
     "text": [
      "[[0 0 0 0 0 0 0]\n",
      " [0 0 0 0 0 0 0]\n",
      " [0 0 0 0 0 0 0]\n",
      " [0 0 0 0 0 0 0]\n",
      " [0 0 0 0 0 0 0]\n",
      " [0 0 0 0 0 0 0]\n",
      " [0 0 0 0 0 0 0]]\n"
     ]
    }
   ],
   "source": [
    "matrix_6 = np.zeros((7,7), dtype=int)\n",
    "print(matrix_6)"
   ]
  },
  {
   "cell_type": "markdown",
   "id": "a41a4789",
   "metadata": {},
   "source": [
    "## Creating identity matrix"
   ]
  },
  {
   "cell_type": "code",
   "execution_count": 15,
   "id": "abfff584",
   "metadata": {},
   "outputs": [
    {
     "name": "stdout",
     "output_type": "stream",
     "text": [
      "[[1. 0. 0.]\n",
      " [0. 1. 0.]\n",
      " [0. 0. 1.]]\n"
     ]
    }
   ],
   "source": [
    "identity_matrix = np.eye(3,3)\n",
    "print(identity_matrix)"
   ]
  },
  {
   "cell_type": "code",
   "execution_count": 17,
   "id": "648b3329",
   "metadata": {},
   "outputs": [
    {
     "name": "stdout",
     "output_type": "stream",
     "text": [
      "[[1 0 0 0 0]\n",
      " [0 1 0 0 0]\n",
      " [0 0 1 0 0]\n",
      " [0 0 0 1 0]\n",
      " [0 0 0 0 1]]\n"
     ]
    }
   ],
   "source": [
    "identity_matrix_2 = np.eye(5,5, dtype=int)\n",
    "print(identity_matrix_2)"
   ]
  },
  {
   "cell_type": "markdown",
   "id": "afaef5f5",
   "metadata": {},
   "source": [
    "## Transpose of a matrix"
   ]
  },
  {
   "cell_type": "code",
   "execution_count": 18,
   "id": "ff336eac",
   "metadata": {},
   "outputs": [
    {
     "name": "stdout",
     "output_type": "stream",
     "text": [
      "[[76 66 85 76  8]\n",
      " [21 35 56 84 22]\n",
      " [49 59 69 64 34]\n",
      " [13 36 13 79 76]]\n"
     ]
    }
   ],
   "source": [
    "# matrix with random integer values\n",
    "a = np.random.randint(100, size=(4,5))\n",
    "print(a)"
   ]
  },
  {
   "cell_type": "code",
   "execution_count": 19,
   "id": "ccb7af85",
   "metadata": {},
   "outputs": [
    {
     "name": "stdout",
     "output_type": "stream",
     "text": [
      "[[76 21 49 13]\n",
      " [66 35 59 36]\n",
      " [85 56 69 13]\n",
      " [76 84 64 79]\n",
      " [ 8 22 34 76]]\n"
     ]
    }
   ],
   "source": [
    "transpose_of_a = np.transpose(a)\n",
    "print(transpose_of_a)"
   ]
  },
  {
   "cell_type": "markdown",
   "id": "8feb6294",
   "metadata": {},
   "source": [
    "# Part 2"
   ]
  },
  {
   "cell_type": "markdown",
   "id": "e66cc3e1",
   "metadata": {},
   "source": [
    "## Matrix addition  \n",
    "Rule: They must have the same shape."
   ]
  },
  {
   "cell_type": "code",
   "execution_count": 3,
   "id": "6c613cbf",
   "metadata": {},
   "outputs": [],
   "source": [
    "A = np.array([[2, 3], [4, 5]])\n",
    "B = np.array([[6, 7], [8, 9]])"
   ]
  },
  {
   "cell_type": "code",
   "execution_count": 4,
   "id": "a9626535",
   "metadata": {},
   "outputs": [
    {
     "name": "stdout",
     "output_type": "stream",
     "text": [
      "[[2 3]\n",
      " [4 5]]\n"
     ]
    }
   ],
   "source": [
    "print(A)"
   ]
  },
  {
   "cell_type": "code",
   "execution_count": 5,
   "id": "41e8c731",
   "metadata": {},
   "outputs": [
    {
     "name": "stdout",
     "output_type": "stream",
     "text": [
      "[[6 7]\n",
      " [8 9]]\n"
     ]
    }
   ],
   "source": [
    "print(B)"
   ]
  },
  {
   "cell_type": "code",
   "execution_count": 7,
   "id": "e67a38f4",
   "metadata": {},
   "outputs": [
    {
     "data": {
      "text/plain": [
       "(2, 2)"
      ]
     },
     "execution_count": 7,
     "metadata": {},
     "output_type": "execute_result"
    }
   ],
   "source": [
    "A.shape"
   ]
  },
  {
   "cell_type": "code",
   "execution_count": 8,
   "id": "b5de6692",
   "metadata": {},
   "outputs": [
    {
     "data": {
      "text/plain": [
       "(2, 2)"
      ]
     },
     "execution_count": 8,
     "metadata": {},
     "output_type": "execute_result"
    }
   ],
   "source": [
    "B.shape"
   ]
  },
  {
   "cell_type": "code",
   "execution_count": 10,
   "id": "deecfaa9",
   "metadata": {},
   "outputs": [
    {
     "name": "stdout",
     "output_type": "stream",
     "text": [
      "[[ 8 10]\n",
      " [12 14]]\n"
     ]
    }
   ],
   "source": [
    "# Adding 2 matrices\n",
    "sum = A + B\n",
    "print(sum)"
   ]
  },
  {
   "cell_type": "code",
   "execution_count": 11,
   "id": "e1253b48",
   "metadata": {},
   "outputs": [],
   "source": [
    "# Create 2 matrices with random values\n",
    "matrix_1 = np.random.randint(10, size=(3,3))\n",
    "matrix_2 = np.random.randint(20, size=(3,3))"
   ]
  },
  {
   "cell_type": "code",
   "execution_count": 12,
   "id": "97cac477",
   "metadata": {},
   "outputs": [
    {
     "name": "stdout",
     "output_type": "stream",
     "text": [
      "[[3 8 3]\n",
      " [2 3 6]\n",
      " [4 7 8]]\n"
     ]
    }
   ],
   "source": [
    "print(matrix_1)"
   ]
  },
  {
   "cell_type": "code",
   "execution_count": 13,
   "id": "caca818f",
   "metadata": {},
   "outputs": [
    {
     "name": "stdout",
     "output_type": "stream",
     "text": [
      "[[ 0 10  0]\n",
      " [10 17 15]\n",
      " [ 3 12 18]]\n"
     ]
    }
   ],
   "source": [
    "print(matrix_2)"
   ]
  },
  {
   "cell_type": "code",
   "execution_count": 14,
   "id": "6c94f2ee",
   "metadata": {},
   "outputs": [
    {
     "name": "stdout",
     "output_type": "stream",
     "text": [
      "[[ 3 18  3]\n",
      " [12 20 21]\n",
      " [ 7 19 26]]\n"
     ]
    }
   ],
   "source": [
    "sum = np.add(matrix_1, matrix_2)\n",
    "print(sum)"
   ]
  },
  {
   "cell_type": "markdown",
   "id": "a708d07a",
   "metadata": {},
   "source": [
    "## Matrix subtraction\n",
    "Rule: They must have the same shape."
   ]
  },
  {
   "cell_type": "code",
   "execution_count": 15,
   "id": "37fc5e57",
   "metadata": {},
   "outputs": [],
   "source": [
    "A = np.array([[2, 3], [4, 5]])\n",
    "B = np.array([[6, 7], [8, 9]])"
   ]
  },
  {
   "cell_type": "code",
   "execution_count": 16,
   "id": "b903f30c",
   "metadata": {},
   "outputs": [
    {
     "name": "stdout",
     "output_type": "stream",
     "text": [
      "[[-4 -4]\n",
      " [-4 -4]]\n"
     ]
    }
   ],
   "source": [
    "difference = A - B\n",
    "print(difference)"
   ]
  },
  {
   "cell_type": "code",
   "execution_count": 17,
   "id": "94579672",
   "metadata": {},
   "outputs": [],
   "source": [
    "# Create 2 matrices with random values\n",
    "matrix_1 = np.random.randint(10, size=(3,3))\n",
    "matrix_2 = np.random.randint(20, size=(3,3))"
   ]
  },
  {
   "cell_type": "code",
   "execution_count": 18,
   "id": "6af75d3a",
   "metadata": {},
   "outputs": [
    {
     "name": "stdout",
     "output_type": "stream",
     "text": [
      "[[3 8 8]\n",
      " [8 6 3]\n",
      " [2 1 8]]\n"
     ]
    }
   ],
   "source": [
    "print(matrix_1)"
   ]
  },
  {
   "cell_type": "code",
   "execution_count": 19,
   "id": "7256b578",
   "metadata": {},
   "outputs": [
    {
     "name": "stdout",
     "output_type": "stream",
     "text": [
      "[[12  4 16]\n",
      " [ 0 16  5]\n",
      " [ 8  1 14]]\n"
     ]
    }
   ],
   "source": [
    "print(matrix_2)"
   ]
  },
  {
   "cell_type": "code",
   "execution_count": 20,
   "id": "6818495c",
   "metadata": {},
   "outputs": [
    {
     "name": "stdout",
     "output_type": "stream",
     "text": [
      "[[ -9   4  -8]\n",
      " [  8 -10  -2]\n",
      " [ -6   0  -6]]\n"
     ]
    }
   ],
   "source": [
    "diff = np.subtract(matrix_1, matrix_2)\n",
    "print(diff)"
   ]
  },
  {
   "cell_type": "markdown",
   "id": "56b9b8e2",
   "metadata": {},
   "source": [
    "## Multiply a matrix by a scalar"
   ]
  },
  {
   "cell_type": "code",
   "execution_count": 21,
   "id": "9457eae2",
   "metadata": {},
   "outputs": [],
   "source": [
    "x = 5\n",
    "y = np.random.randint(10, size=(4,4))"
   ]
  },
  {
   "cell_type": "code",
   "execution_count": 22,
   "id": "6fcfe885",
   "metadata": {},
   "outputs": [
    {
     "name": "stdout",
     "output_type": "stream",
     "text": [
      "[[4 3 8 9]\n",
      " [1 2 7 7]\n",
      " [3 2 9 0]\n",
      " [4 1 5 1]]\n"
     ]
    }
   ],
   "source": [
    "print(y)"
   ]
  },
  {
   "cell_type": "code",
   "execution_count": 24,
   "id": "281db6cc",
   "metadata": {},
   "outputs": [
    {
     "name": "stdout",
     "output_type": "stream",
     "text": [
      "[[20 15 40 45]\n",
      " [ 5 10 35 35]\n",
      " [15 10 45  0]\n",
      " [20  5 25  5]]\n"
     ]
    }
   ],
   "source": [
    "product = np.multiply(x, y)\n",
    "print(product)"
   ]
  },
  {
   "cell_type": "markdown",
   "id": "889a1ea4",
   "metadata": {},
   "source": [
    "## Multiply 2 matrices  \n",
    "Rule: Number of columns in first matrix should be the same as the number of rows in the second"
   ]
  },
  {
   "cell_type": "code",
   "execution_count": 25,
   "id": "d5a2e809",
   "metadata": {},
   "outputs": [],
   "source": [
    "# Create 2 matrices with random values\n",
    "matrix_1 = np.random.randint(5, size=(3,3))\n",
    "matrix_2 = np.random.randint(5, size=(3,4))"
   ]
  },
  {
   "cell_type": "code",
   "execution_count": 26,
   "id": "8767aec8",
   "metadata": {},
   "outputs": [
    {
     "name": "stdout",
     "output_type": "stream",
     "text": [
      "[[3 4 3]\n",
      " [0 3 1]\n",
      " [2 1 3]]\n"
     ]
    }
   ],
   "source": [
    "print(matrix_1)"
   ]
  },
  {
   "cell_type": "code",
   "execution_count": 27,
   "id": "6ec9b767",
   "metadata": {},
   "outputs": [
    {
     "name": "stdout",
     "output_type": "stream",
     "text": [
      "[[2 4 0 3]\n",
      " [2 0 3 1]\n",
      " [4 4 3 4]]\n"
     ]
    }
   ],
   "source": [
    "print(matrix_2)"
   ]
  },
  {
   "cell_type": "code",
   "execution_count": 28,
   "id": "835551d4",
   "metadata": {},
   "outputs": [
    {
     "name": "stdout",
     "output_type": "stream",
     "text": [
      "[[26 24 21 25]\n",
      " [10  4 12  7]\n",
      " [18 20 12 19]]\n"
     ]
    }
   ],
   "source": [
    "product = np.dot(matrix_1, matrix_2)\n",
    "print(product)"
   ]
  },
  {
   "cell_type": "code",
   "execution_count": 29,
   "id": "67420669",
   "metadata": {},
   "outputs": [
    {
     "data": {
      "text/plain": [
       "(3, 4)"
      ]
     },
     "execution_count": 29,
     "metadata": {},
     "output_type": "execute_result"
    }
   ],
   "source": [
    "product.shape"
   ]
  },
  {
   "cell_type": "markdown",
   "id": "cbce31c2",
   "metadata": {},
   "source": [
    "## Element wise matrix multiplication\n",
    "Rule: Number of columns in first matrix should be the same as the number of rows in the second"
   ]
  },
  {
   "cell_type": "code",
   "execution_count": 30,
   "id": "6d2cc0f8",
   "metadata": {},
   "outputs": [],
   "source": [
    "# Create 2 matrices with random values\n",
    "matrix_1 = np.random.randint(5, size=(3,3))\n",
    "matrix_2 = np.random.randint(5, size=(3,3))"
   ]
  },
  {
   "cell_type": "code",
   "execution_count": 31,
   "id": "a7ba68d6",
   "metadata": {},
   "outputs": [
    {
     "name": "stdout",
     "output_type": "stream",
     "text": [
      "[[1 2 4]\n",
      " [3 1 2]\n",
      " [2 0 0]]\n"
     ]
    }
   ],
   "source": [
    "print(matrix_1)"
   ]
  },
  {
   "cell_type": "code",
   "execution_count": 32,
   "id": "22c2a61b",
   "metadata": {},
   "outputs": [
    {
     "name": "stdout",
     "output_type": "stream",
     "text": [
      "[[2 3 3]\n",
      " [0 3 2]\n",
      " [3 0 3]]\n"
     ]
    }
   ],
   "source": [
    "print(matrix_2)"
   ]
  },
  {
   "cell_type": "code",
   "execution_count": 33,
   "id": "5bc2fed5",
   "metadata": {},
   "outputs": [
    {
     "name": "stdout",
     "output_type": "stream",
     "text": [
      "[[ 2  6 12]\n",
      " [ 0  3  4]\n",
      " [ 6  0  0]]\n"
     ]
    }
   ],
   "source": [
    "product = np.multiply(matrix_1, matrix_2)\n",
    "print(product)"
   ]
  },
  {
   "cell_type": "code",
   "execution_count": null,
   "id": "a5adf4ce",
   "metadata": {},
   "outputs": [],
   "source": []
  }
 ],
 "metadata": {
  "kernelspec": {
   "display_name": "Python 3 (ipykernel)",
   "language": "python",
   "name": "python3"
  },
  "language_info": {
   "codemirror_mode": {
    "name": "ipython",
    "version": 3
   },
   "file_extension": ".py",
   "mimetype": "text/x-python",
   "name": "python",
   "nbconvert_exporter": "python",
   "pygments_lexer": "ipython3",
   "version": "3.9.11"
  }
 },
 "nbformat": 4,
 "nbformat_minor": 5
}
